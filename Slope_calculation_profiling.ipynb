{
 "cells": [
  {
   "cell_type": "markdown",
   "metadata": {},
   "source": [
    "# Time profiler for Haar class"
   ]
  },
  {
   "cell_type": "code",
   "execution_count": 1,
   "metadata": {},
   "outputs": [],
   "source": [
    "from slope import Haar, load_data"
   ]
  },
  {
   "cell_type": "markdown",
   "metadata": {},
   "source": [
    "Import data"
   ]
  },
  {
   "cell_type": "code",
   "execution_count": 2,
   "metadata": {},
   "outputs": [
    {
     "data": {
      "text/html": [
       "<div>\n",
       "<style scoped>\n",
       "    .dataframe tbody tr th:only-of-type {\n",
       "        vertical-align: middle;\n",
       "    }\n",
       "\n",
       "    .dataframe tbody tr th {\n",
       "        vertical-align: top;\n",
       "    }\n",
       "\n",
       "    .dataframe thead th {\n",
       "        text-align: right;\n",
       "    }\n",
       "</style>\n",
       "<table border=\"1\" class=\"dataframe\">\n",
       "  <thead>\n",
       "    <tr style=\"text-align: right;\">\n",
       "      <th></th>\n",
       "      <th>Name</th>\n",
       "      <th>Data id</th>\n",
       "      <th>Latitud</th>\n",
       "      <th>Longitud</th>\n",
       "      <th>Age units</th>\n",
       "      <th>Data units</th>\n",
       "      <th>Data length</th>\n",
       "    </tr>\n",
       "  </thead>\n",
       "  <tbody>\n",
       "    <tr>\n",
       "      <th>0</th>\n",
       "      <td>Vostok</td>\n",
       "      <td>1</td>\n",
       "      <td>-78.464167</td>\n",
       "      <td>106.865833</td>\n",
       "      <td>ka</td>\n",
       "      <td>(ug/m2/a)</td>\n",
       "      <td>507</td>\n",
       "    </tr>\n",
       "    <tr>\n",
       "      <th>1</th>\n",
       "      <td>EPICA Dome C</td>\n",
       "      <td>2</td>\n",
       "      <td>-75.100000</td>\n",
       "      <td>123.350000</td>\n",
       "      <td>ka</td>\n",
       "      <td>(mg/m**2/a)</td>\n",
       "      <td>298205</td>\n",
       "    </tr>\n",
       "    <tr>\n",
       "      <th>2</th>\n",
       "      <td>EPICA EDML</td>\n",
       "      <td>3</td>\n",
       "      <td>-75.002500</td>\n",
       "      <td>0.068400</td>\n",
       "      <td>ka</td>\n",
       "      <td>(ug/m**2/a)</td>\n",
       "      <td>2303</td>\n",
       "    </tr>\n",
       "    <tr>\n",
       "      <th>3</th>\n",
       "      <td>Talos Dome</td>\n",
       "      <td>4</td>\n",
       "      <td>-72.817000</td>\n",
       "      <td>159.183000</td>\n",
       "      <td>ka BP</td>\n",
       "      <td>(µg/kg)</td>\n",
       "      <td>64998</td>\n",
       "    </tr>\n",
       "    <tr>\n",
       "      <th>4</th>\n",
       "      <td>PS75/59-2</td>\n",
       "      <td>5</td>\n",
       "      <td>-54.215000</td>\n",
       "      <td>-125.425500</td>\n",
       "      <td>(kyr)</td>\n",
       "      <td>(wt-%)</td>\n",
       "      <td>2384</td>\n",
       "    </tr>\n",
       "    <tr>\n",
       "      <th>5</th>\n",
       "      <td>ML1208-17PC</td>\n",
       "      <td>6</td>\n",
       "      <td>0.480000</td>\n",
       "      <td>-156.450000</td>\n",
       "      <td>ka</td>\n",
       "      <td>(g/m2/yr)</td>\n",
       "      <td>192</td>\n",
       "    </tr>\n",
       "    <tr>\n",
       "      <th>6</th>\n",
       "      <td>ML1208-31BB</td>\n",
       "      <td>7</td>\n",
       "      <td>4.680000</td>\n",
       "      <td>-160.050000</td>\n",
       "      <td>ka</td>\n",
       "      <td>(g/m2/yr)</td>\n",
       "      <td>254</td>\n",
       "    </tr>\n",
       "    <tr>\n",
       "      <th>7</th>\n",
       "      <td>ML1208-37BB</td>\n",
       "      <td>8</td>\n",
       "      <td>7.040000</td>\n",
       "      <td>-161.630000</td>\n",
       "      <td>ka</td>\n",
       "      <td>(g/m2/yr)</td>\n",
       "      <td>105</td>\n",
       "    </tr>\n",
       "    <tr>\n",
       "      <th>8</th>\n",
       "      <td>Xifeng</td>\n",
       "      <td>9</td>\n",
       "      <td>35.700000</td>\n",
       "      <td>107.600000</td>\n",
       "      <td>ka</td>\n",
       "      <td>(g/m^2/ka)</td>\n",
       "      <td>722</td>\n",
       "    </tr>\n",
       "    <tr>\n",
       "      <th>9</th>\n",
       "      <td>Chinese Loess Plateau</td>\n",
       "      <td>10</td>\n",
       "      <td>35.760000</td>\n",
       "      <td>107.817333</td>\n",
       "      <td>ka</td>\n",
       "      <td>(g/cm3/ka)</td>\n",
       "      <td>1801</td>\n",
       "    </tr>\n",
       "    <tr>\n",
       "      <th>10</th>\n",
       "      <td>RECAP</td>\n",
       "      <td>11</td>\n",
       "      <td>71.300000</td>\n",
       "      <td>-26.720000</td>\n",
       "      <td>ka b2k</td>\n",
       "      <td>(microgram/kg)</td>\n",
       "      <td>2317</td>\n",
       "    </tr>\n",
       "    <tr>\n",
       "      <th>11</th>\n",
       "      <td>GRIP</td>\n",
       "      <td>12</td>\n",
       "      <td>72.587220</td>\n",
       "      <td>-37.642220</td>\n",
       "      <td>ka BP</td>\n",
       "      <td>(um/kg)</td>\n",
       "      <td>3038</td>\n",
       "    </tr>\n",
       "    <tr>\n",
       "      <th>12</th>\n",
       "      <td>NGRIP</td>\n",
       "      <td>13</td>\n",
       "      <td>75.000000</td>\n",
       "      <td>-42.000000</td>\n",
       "      <td>ka BP</td>\n",
       "      <td>(ng/g)</td>\n",
       "      <td>2774</td>\n",
       "    </tr>\n",
       "  </tbody>\n",
       "</table>\n",
       "</div>"
      ],
      "text/plain": [
       "                     Name  Data id    Latitud    Longitud Age units  \\\n",
       "0                  Vostok        1 -78.464167  106.865833        ka   \n",
       "1            EPICA Dome C        2 -75.100000  123.350000        ka   \n",
       "2              EPICA EDML        3 -75.002500    0.068400        ka   \n",
       "3              Talos Dome        4 -72.817000  159.183000     ka BP   \n",
       "4               PS75/59-2        5 -54.215000 -125.425500     (kyr)   \n",
       "5             ML1208-17PC        6   0.480000 -156.450000        ka   \n",
       "6             ML1208-31BB        7   4.680000 -160.050000        ka   \n",
       "7             ML1208-37BB        8   7.040000 -161.630000        ka   \n",
       "8                 Xifeng         9  35.700000  107.600000        ka   \n",
       "9   Chinese Loess Plateau       10  35.760000  107.817333        ka   \n",
       "10                  RECAP       11  71.300000  -26.720000    ka b2k   \n",
       "11                   GRIP       12  72.587220  -37.642220     ka BP   \n",
       "12                  NGRIP       13  75.000000  -42.000000     ka BP   \n",
       "\n",
       "        Data units  Data length  \n",
       "0        (ug/m2/a)          507  \n",
       "1      (mg/m**2/a)       298205  \n",
       "2      (ug/m**2/a)         2303  \n",
       "3          (µg/kg)        64998  \n",
       "4           (wt-%)         2384  \n",
       "5        (g/m2/yr)          192  \n",
       "6        (g/m2/yr)          254  \n",
       "7        (g/m2/yr)          105  \n",
       "8       (g/m^2/ka)          722  \n",
       "9       (g/cm3/ka)         1801  \n",
       "10  (microgram/kg)         2317  \n",
       "11         (um/kg)         3038  \n",
       "12          (ng/g)         2774  "
      ]
     },
     "execution_count": 2,
     "metadata": {},
     "output_type": "execute_result"
    }
   ],
   "source": [
    "dust_file = 'Dust records corregidos Completo.xlsx'\n",
    "id_data, lis, new_length = load_data(dust_file)\n",
    "id_data"
   ]
  },
  {
   "cell_type": "code",
   "execution_count": 3,
   "metadata": {},
   "outputs": [],
   "source": [
    "ix = 6\n",
    "t = lis[ix][lis[ix].columns[0]]\n",
    "T = lis[ix][lis[ix].columns[1]]"
   ]
  },
  {
   "cell_type": "code",
   "execution_count": 4,
   "metadata": {},
   "outputs": [],
   "source": [
    "haar_obj = Haar(t,T,smooth=True,bins=20)"
   ]
  },
  {
   "cell_type": "markdown",
   "metadata": {},
   "source": [
    "Steps"
   ]
  },
  {
   "cell_type": "code",
   "execution_count": 5,
   "metadata": {},
   "outputs": [
    {
     "name": "stdout",
     "output_type": "stream",
     "text": [
      "CPU times: user 214 µs, sys: 3 µs, total: 217 µs\n",
      "Wall time: 221 µs\n"
     ]
    }
   ],
   "source": [
    "%%time\n",
    "haar_obj.compute_deltas()"
   ]
  },
  {
   "cell_type": "code",
   "execution_count": 6,
   "metadata": {},
   "outputs": [
    {
     "name": "stdout",
     "output_type": "stream",
     "text": [
      "CPU times: user 736 µs, sys: 12 µs, total: 748 µs\n",
      "Wall time: 752 µs\n"
     ]
    }
   ],
   "source": [
    "%%time\n",
    "haar_obj.compute_epsilons()"
   ]
  },
  {
   "cell_type": "code",
   "execution_count": 7,
   "metadata": {},
   "outputs": [
    {
     "name": "stdout",
     "output_type": "stream",
     "text": [
      "t samples: 254\n",
      "deltas_t steps: from 1 to 127\n",
      "epsilons steps: 127\n"
     ]
    }
   ],
   "source": [
    "print('t samples:',len(haar_obj.t))\n",
    "print('deltas_t steps: from 1 to',len(haar_obj.deltas_t))\n",
    "print('epsilons steps:',len(haar_obj.epsilons))"
   ]
  },
  {
   "cell_type": "markdown",
   "metadata": {},
   "source": [
    "More steps"
   ]
  },
  {
   "cell_type": "code",
   "execution_count": 8,
   "metadata": {},
   "outputs": [
    {
     "name": "stdout",
     "output_type": "stream",
     "text": [
      "1160 fluctuaciones eliminadas (7.365%)\n",
      "CPU times: user 358 ms, sys: 7.96 ms, total: 366 ms\n",
      "Wall time: 364 ms\n"
     ]
    }
   ],
   "source": [
    "%%time\n",
    "haar_obj.fluctuations()"
   ]
  },
  {
   "cell_type": "code",
   "execution_count": 9,
   "metadata": {},
   "outputs": [
    {
     "name": "stdout",
     "output_type": "stream",
     "text": [
      "CPU times: user 219 ms, sys: 3.98 ms, total: 223 ms\n",
      "Wall time: 221 ms\n"
     ]
    }
   ],
   "source": [
    "%%time\n",
    "haar_obj.algo()"
   ]
  },
  {
   "cell_type": "code",
   "execution_count": 10,
   "metadata": {},
   "outputs": [
    {
     "name": "stdout",
     "output_type": "stream",
     "text": [
      "CPU times: user 4.87 ms, sys: 0 ns, total: 4.87 ms\n",
      "Wall time: 3.39 ms\n"
     ]
    }
   ],
   "source": [
    "%%time\n",
    "haar_obj.do_smoothing()"
   ]
  },
  {
   "cell_type": "code",
   "execution_count": 11,
   "metadata": {},
   "outputs": [
    {
     "data": {
      "image/png": "[encoded data removed]",
      "text/plain": [
       "<Figure size 1080x504 with 1 Axes>"
      ]
     },
     "metadata": {
      "needs_background": "light"
     },
     "output_type": "display_data"
    }
   ],
   "source": [
    "haar_obj.plot()"
   ]
  },
  {
   "cell_type": "code",
   "execution_count": null,
   "metadata": {},
   "outputs": [],
   "source": [
    "delta_t = haar_obj.delta_t_values\n",
    "hs = haar_obj.Hs_values\n",
    "time_haar = haar_obj.time\n",
    "amp = haar_obj.smooth_val\n",
    "app = haar_obj.upper\n",
    "low = haar_obj.lower"
   ]
  },
  {
   "cell_type": "code",
   "execution_count": null,
   "metadata": {},
   "outputs": [],
   "source": [
    "import cProfile"
   ]
  },
  {
   "cell_type": "markdown",
   "metadata": {},
   "source": [
    "Otras cosas"
   ]
  },
  {
   "cell_type": "code",
   "execution_count": null,
   "metadata": {},
   "outputs": [],
   "source": [
    "from scipy.stats import linregress\n",
    "from scipy.signal import savgol_filter"
   ]
  }
 ],
 "metadata": {
  "kernelspec": {
   "display_name": "Python 3.9.0 ('agro')",
   "language": "python",
   "name": "python3"
  },
  "language_info": {
   "codemirror_mode": {
    "name": "ipython",
    "version": 3
   },
   "file_extension": ".py",
   "mimetype": "text/x-python",
   "name": "python",
   "nbconvert_exporter": "python",
   "pygments_lexer": "ipython3",
   "version": "3.9.0"
  },
  "orig_nbformat": 4,
  "vscode": {
   "interpreter": {
    "hash": "5a09f83d747ddbee076343c75140ab6a5612c6071f1d1b8cd9bf117d48cfe15b"
   }
  }
 },
 "nbformat": 4,
 "nbformat_minor": 2
}
